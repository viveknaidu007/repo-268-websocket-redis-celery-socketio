{
 "cells": [
  {
   "cell_type": "markdown",
   "id": "c2532524",
   "metadata": {
    "vscode": {
     "languageId": "plaintext"
    }
   },
   "source": [
    "# Redis is used as the message broker for Celery"
   ]
  },
  {
   "cell_type": "code",
   "execution_count": null,
   "id": "bfed3602",
   "metadata": {
    "vscode": {
     "languageId": "plaintext"
    }
   },
   "outputs": [],
   "source": [
    "# cmd or powershell :\n",
    "redis-cli --version\n",
    "\n",
    "or\n",
    "\n",
    "redis-server --version\n",
    "\n",
    "/if installed :\n",
    "u will see : redis-cli 7.2.1 ..etc\n",
    "\n",
    "/if not installed:\n",
    "'redis-cli' is not recognized...\n",
    "\n"
   ]
  },
  {
   "cell_type": "code",
   "execution_count": null,
   "id": "dd203f80",
   "metadata": {
    "vscode": {
     "languageId": "plaintext"
    }
   },
   "outputs": [],
   "source": [
    "#check redis is running:\n",
    "\n",
    "redis-cli ping\n",
    "/if running u will get pong\n",
    "\n"
   ]
  },
  {
   "cell_type": "code",
   "execution_count": null,
   "id": "1cc19bb5",
   "metadata": {
    "vscode": {
     "languageId": "plaintext"
    }
   },
   "outputs": [],
   "source": [
    "#if not install :\n",
    "install :\n",
    "\n",
    "If Not Installed\n",
    "Windows: Install from https://github.com/tporadowski/redis/releases\n",
    "\n",
    "macOS (Homebrew):\n",
    "\n",
    "bash\n",
    "brew install redis\n",
    "Ubuntu/Debian:\n",
    "\n",
    "bash\n",
    "sudo apt update\n",
    "sudo apt install redis-server"
   ]
  },
  {
   "cell_type": "code",
   "execution_count": null,
   "id": "21c0ae09",
   "metadata": {
    "vscode": {
     "languageId": "plaintext"
    }
   },
   "outputs": [],
   "source": [
    "#start redis :\n",
    "redis-server\n",
    "\n",
    "#If Redis is installed as a Windows service, you can also use:\n",
    "net start Redis\n",
    "\n",
    "\n",
    "#stop redis :\n",
    "ctrl+c\n",
    "\n",
    "#Or if it's installed as a Windows service, stop it with:\n",
    "net stop Redis\n",
    "\n",
    "bash\n",
    "Copy\n",
    "Edit\n",
    "\n"
   ]
  },
  {
   "cell_type": "code",
   "execution_count": null,
   "id": "2915d197",
   "metadata": {
    "vscode": {
     "languageId": "plaintext"
    }
   },
   "outputs": [],
   "source": [
    "##🐧 On Linux (Ubuntu/Debian)\n",
    "\n",
    "#start:\n",
    "sudo systemctl start redis\n",
    "\n",
    "\n",
    "#⏹️ Stop Redis:\n",
    "sudo systemctl stop redis\n",
    "\n",
    "#sudo systemctl restart redis\n",
    "sudo systemctl restart redis\n"
   ]
  },
  {
   "cell_type": "code",
   "execution_count": null,
   "id": "1e934d6f",
   "metadata": {
    "vscode": {
     "languageId": "plaintext"
    }
   },
   "outputs": [],
   "source": [
    "##🔍 Check Redis Status:\n",
    "\n",
    "\n",
    "#service version:\n",
    "sc query Redis\n",
    "\n",
    "#linux:\n",
    "systemctl status redis\n",
    "\n"
   ]
  },
  {
   "cell_type": "code",
   "execution_count": null,
   "id": "b0e3b2a1",
   "metadata": {
    "vscode": {
     "languageId": "plaintext"
    }
   },
   "outputs": [],
   "source": [
    "##🛠️ Redis Service Management on Windows:\n",
    "\n",
    "net stop Redis\n",
    "net start Redis\n",
    "\n"
   ]
  }
 ],
 "metadata": {
  "language_info": {
   "name": "python"
  }
 },
 "nbformat": 4,
 "nbformat_minor": 5
}
